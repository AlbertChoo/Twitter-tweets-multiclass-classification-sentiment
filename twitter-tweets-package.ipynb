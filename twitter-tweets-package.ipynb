{
 "cells": [
  {
   "cell_type": "code",
   "execution_count": 1,
   "metadata": {},
   "outputs": [
    {
     "name": "stdout",
     "output_type": "stream",
     "text": [
      "Minimal requirements.txt generated at requirements-twitter.txt\n"
     ]
    }
   ],
   "source": [
    "import re\n",
    "import json\n",
    "\n",
    "def extract_imports(notebook_file):\n",
    "    with open(notebook_file, 'r') as f:\n",
    "        notebook = json.load(f)\n",
    "    \n",
    "    imports = set()\n",
    "    for cell in notebook.get('cells', []):\n",
    "        if cell.get('cell_type') == 'code':\n",
    "            for line in cell.get('source', []):\n",
    "                match = re.match(r'^\\s*(import|from) (\\S+)', line)\n",
    "                if match:\n",
    "                    imports.add(match.group(2).split('.')[0])\n",
    "    return imports\n",
    "\n",
    "def generate_requirements(imports, output_file='requirements-twitter.txt'):\n",
    "    with open(output_file, 'w') as f:\n",
    "        for package in imports:\n",
    "            f.write(f\"{package}\\n\")\n",
    "    print(f\"Minimal requirements.txt generated at {output_file}\")\n",
    "\n",
    "# Replace 'your_notebook.ipynb' with the path to your Colab notebook\n",
    "notebook_path = r\"C:\\Users\\ILLEGEAR\\Downloads\\Twitter_Tweets_BERT.ipynb\"\n",
    "imports = extract_imports(notebook_path)\n",
    "generate_requirements(imports)"
   ]
  },
  {
   "cell_type": "code",
   "execution_count": 2,
   "metadata": {},
   "outputs": [
    {
     "name": "stdout",
     "output_type": "stream",
     "text": [
      "Updated requirements with versions saved in final-requirements.txt\n"
     ]
    }
   ],
   "source": [
    "def match_versions(imports_file, colab_requirements_file, output_file='final-requirements.txt'):\n",
    "    # Read the libraries from requirements-twitter.txt\n",
    "    with open(imports_file, 'r') as f:\n",
    "        imported_libraries = {line.strip() for line in f if line.strip()}\n",
    "    \n",
    "    # Read the packages and versions from requirements.txt\n",
    "    version_dict = {}\n",
    "    with open(colab_requirements_file, 'r') as f:\n",
    "        for line in f:\n",
    "            if '==' in line:\n",
    "                package, version = line.strip().split('==')\n",
    "                version_dict[package] = version\n",
    "    \n",
    "    # Match libraries and write to the final file\n",
    "    with open(output_file, 'w') as f:\n",
    "        for library in imported_libraries:\n",
    "            if library in version_dict:\n",
    "                f.write(f\"{library}=={version_dict[library]}\\n\")\n",
    "            else:\n",
    "                f.write(f\"# {library} - version not found\\n\")\n",
    "    \n",
    "    print(f\"Updated requirements with versions saved in {output_file}\")\n",
    "\n",
    "# File paths\n",
    "imports_file = \"requirements-twitter.txt\"  # The file with libraries extracted from the notebook\n",
    "colab_requirements_file = \"requirements(1).txt\"  # The full Colab requirements with versions\n",
    "output_file = \"final-requirements.txt\"  # Output file with matched versions\n",
    "\n",
    "# Run the function\n",
    "match_versions(imports_file, colab_requirements_file, output_file)"
   ]
  },
  {
   "cell_type": "code",
   "execution_count": null,
   "metadata": {},
   "outputs": [],
   "source": []
  }
 ],
 "metadata": {
  "kernelspec": {
   "display_name": "py390-gpu-IMDB",
   "language": "python",
   "name": "python3"
  },
  "language_info": {
   "codemirror_mode": {
    "name": "ipython",
    "version": 3
   },
   "file_extension": ".py",
   "mimetype": "text/x-python",
   "name": "python",
   "nbconvert_exporter": "python",
   "pygments_lexer": "ipython3",
   "version": "3.9.0"
  }
 },
 "nbformat": 4,
 "nbformat_minor": 2
}
