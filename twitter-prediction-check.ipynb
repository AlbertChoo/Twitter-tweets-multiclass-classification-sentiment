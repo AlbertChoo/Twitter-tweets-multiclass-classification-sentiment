{
 "cells": [
  {
   "cell_type": "code",
   "execution_count": 1,
   "metadata": {},
   "outputs": [
    {
     "name": "stderr",
     "output_type": "stream",
     "text": [
      "c:\\Users\\ILLEGEAR\\anaconda3\\envs\\twitter-multiclass-sentiment\\lib\\site-packages\\tqdm\\auto.py:21: TqdmWarning: IProgress not found. Please update jupyter and ipywidgets. See https://ipywidgets.readthedocs.io/en/stable/user_install.html\n",
      "  from .autonotebook import tqdm as notebook_tqdm\n",
      "Device set to use cpu\n"
     ]
    },
    {
     "name": "stdout",
     "output_type": "stream",
     "text": [
      "{'label': 'joy', 'score': 0.9532938003540039}\n",
      "{'label': 'joy', 'score': 0.751918613910675}\n",
      "{'label': 'joy', 'score': 0.6145773530006409}\n",
      "{'label': 'sadness', 'score': 0.9705893993377686}\n"
     ]
    }
   ],
   "source": [
    "from transformers import pipeline\n",
    "\n",
    "model = r\"C:\\Users\\ILLEGEAR\\Downloads\\bert-base-uncased-sentiment-model\"\n",
    "classifier = pipeline('text-classification', model=model)\n",
    "\n",
    "text_list = [\"This is a great movie!\", \"hello, how are you?\", \"love you\", \"i am feeling low\"]\n",
    "predictions = classifier(text_list)\n",
    "\n",
    "for prediction in predictions:\n",
    "  print(prediction)"
   ]
  },
  {
   "cell_type": "code",
   "execution_count": null,
   "metadata": {},
   "outputs": [],
   "source": []
  }
 ],
 "metadata": {
  "kernelspec": {
   "display_name": "twitter-multiclass-sentiment",
   "language": "python",
   "name": "python3"
  },
  "language_info": {
   "codemirror_mode": {
    "name": "ipython",
    "version": 3
   },
   "file_extension": ".py",
   "mimetype": "text/x-python",
   "name": "python",
   "nbconvert_exporter": "python",
   "pygments_lexer": "ipython3",
   "version": "3.10.16"
  }
 },
 "nbformat": 4,
 "nbformat_minor": 2
}
